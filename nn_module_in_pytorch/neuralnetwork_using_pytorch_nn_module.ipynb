{
  "cells": [
    {
      "cell_type": "markdown",
      "metadata": {
        "id": "Sxp4d-mohanw"
      },
      "source": [
        "# Making a neural network using pytorch nn module"
      ]
    },
    {
      "cell_type": "markdown",
      "metadata": {},
      "source": [
        " The nn module\n",
        " \n",
        "The torch.nnmodule in PyTorch is a core library that provides a wide array of classes and \n",
        "functions designed to help developers build neural networks efficiently and effectively. It \n",
        "abstracts the complexity of creating and training neural networks by offering pre-built layers, \n",
        "loss functions, activation functions, and other utilities, enabling you to focus on designing and \n",
        "experimenting with model architectures."
      ]
    },
    {
      "cell_type": "markdown",
      "metadata": {},
      "source": [
        " Key Components of torch.nn:\n",
        "\n",
        " 1. Modules (Layers):\n",
        " - nn.Module: The base class for all neural network modules. Your custom models and layers should subclass this class.\n",
        "\n",
        " - Common Layers: Includes layers like nn.Linear(fully connected layer), nn.Conv2d\n",
        " (convolutional layer), nn.LSTM(recurrent layer), and many others.\n",
        "\n",
        " 2. Activation Functions:\n",
        " - Functions like nn.ReLU, nn.Sigmoid, and nn.Tanhintroduce non-linearities to the \n",
        "model, allowing it to learn complex patterns.\n",
        "\n",
        " 3. Loss Functions:\n",
        " - Provides loss functions such as nn.CrossEntropyLoss, nn.MSELoss, and nn.NLLLossto quantify the difference between the model's predictions and the actual targets.\n",
        "\n",
        " 4. Container Modules:\n",
        " - nn.Sequential: A sequential container to stack layers in order. \n",
        "\n",
        " 5. Regularization and Dropout:\n",
        " - Layers like nn.Dropoutand nn.BatchNorm2dhelp prevent overfitting and improve the model's ability to generalize to new data."
      ]
    },
    {
      "cell_type": "code",
      "execution_count": 1,
      "metadata": {
        "id": "VKC14R3N7zcq"
      },
      "outputs": [],
      "source": [
        "import torch\n",
        "import torch.nn as nn"
      ]
    },
    {
      "cell_type": "code",
      "execution_count": 16,
      "metadata": {
        "id": "lEH65t3Q79Ow"
      },
      "outputs": [],
      "source": [
        "class Model(nn.Module):\n",
        "\n",
        "  def __init__(self, num_features):\n",
        "\n",
        "    super().__init__()\n",
        "\n",
        "    self.linear1 = nn.Linear(num_features, 3)\n",
        "    self.relu = nn.ReLU()\n",
        "    self.linear2 = nn.Linear(3, 1)\n",
        "    self.sigmoid = nn.Sigmoid()\n",
        "\n",
        "  def forward(self, features):\n",
        "    out = self.linear1(features)\n",
        "    out = self.relu(out)\n",
        "    out = self.linear2(out)\n",
        "    out = self.sigmoid(out)\n",
        "    return out"
      ]
    },
    {
      "cell_type": "markdown",
      "metadata": {
        "id": "sd5doi4PkatN"
      },
      "source": [
        "- To make the above code shorter, we use sequential container."
      ]
    },
    {
      "cell_type": "code",
      "execution_count": 19,
      "metadata": {
        "id": "tzseV4_vjsex"
      },
      "outputs": [],
      "source": [
        "class Model(nn.Module):\n",
        "\n",
        "  def __init__(self, num_features):\n",
        "\n",
        "    super().__init__()\n",
        "    self.network = nn.Sequential(\n",
        "        nn.Linear(num_features, 3),\n",
        "        nn.ReLU(),\n",
        "        nn.Linear(3, 1),\n",
        "        nn.Sigmoid()\n",
        "    )\n",
        "\n",
        "  def forward(self, features):\n",
        "    out = self.network(features)\n",
        "    return out"
      ]
    },
    {
      "cell_type": "markdown",
      "metadata": {
        "id": "XOVSnHrUKwFl"
      },
      "source": [
        "- Instead of using model.forward(features) pytorch recommend to use model(features).\n",
        "- There are magic functions, where on function name __call__ is overwritten in library so when anyone write this code it automatically call the forward function."
      ]
    },
    {
      "cell_type": "code",
      "execution_count": 20,
      "metadata": {
        "colab": {
          "base_uri": "https://localhost:8080/"
        },
        "id": "rcTQOJotKEYB",
        "outputId": "5f3dabb1-ab9e-45b7-c1dc-5dc7e60d6ef8"
      },
      "outputs": [
        {
          "data": {
            "text/plain": [
              "tensor([[0.3891],\n",
              "        [0.4456],\n",
              "        [0.3655],\n",
              "        [0.4206],\n",
              "        [0.4149],\n",
              "        [0.3672],\n",
              "        [0.4017],\n",
              "        [0.4024],\n",
              "        [0.4284],\n",
              "        [0.4166]], grad_fn=<SigmoidBackward0>)"
            ]
          },
          "execution_count": 20,
          "metadata": {},
          "output_type": "execute_result"
        }
      ],
      "source": [
        "# create dataset\n",
        "features = torch.rand(10, 5)\n",
        "\n",
        "# create model\n",
        "model = Model(features.shape[1])\n",
        "\n",
        "# call model for forward pass\n",
        "model(features)"
      ]
    },
    {
      "cell_type": "code",
      "execution_count": 18,
      "metadata": {
        "colab": {
          "base_uri": "https://localhost:8080/"
        },
        "id": "KCWFgED1LXw7",
        "outputId": "acbd9b21-9e43-4fec-ebec-0e6f889dc801"
      },
      "outputs": [
        {
          "data": {
            "text/plain": [
              "Parameter containing:\n",
              "tensor([[-0.3812,  0.1684,  0.3070, -0.2405,  0.3661],\n",
              "        [-0.3441, -0.0436,  0.2437, -0.1250,  0.2618],\n",
              "        [-0.0993, -0.1461, -0.2978,  0.4303, -0.1071]], requires_grad=True)"
            ]
          },
          "execution_count": 18,
          "metadata": {},
          "output_type": "execute_result"
        }
      ],
      "source": [
        "# show model weights\n",
        "model.linear1.weight"
      ]
    },
    {
      "cell_type": "code",
      "execution_count": 6,
      "metadata": {
        "colab": {
          "base_uri": "https://localhost:8080/"
        },
        "id": "JAxCxBJRi98j",
        "outputId": "99f4176c-f73f-430d-f8fe-1dcf855894b7"
      },
      "outputs": [
        {
          "data": {
            "text/plain": [
              "Parameter containing:\n",
              "tensor([[-0.2158,  0.5577, -0.2940]], requires_grad=True)"
            ]
          },
          "execution_count": 6,
          "metadata": {},
          "output_type": "execute_result"
        }
      ],
      "source": [
        "model.linear2.weight"
      ]
    },
    {
      "cell_type": "code",
      "execution_count": 7,
      "metadata": {
        "colab": {
          "base_uri": "https://localhost:8080/"
        },
        "id": "zyONZqWZLs9p",
        "outputId": "d8498bc6-c00a-484b-be2f-21e891669524"
      },
      "outputs": [
        {
          "data": {
            "text/plain": [
              "Parameter containing:\n",
              "tensor([-0.4180, -0.3196, -0.1704], requires_grad=True)"
            ]
          },
          "execution_count": 7,
          "metadata": {},
          "output_type": "execute_result"
        }
      ],
      "source": [
        "# show model bias\n",
        "model.linear1.bias"
      ]
    },
    {
      "cell_type": "code",
      "execution_count": 8,
      "metadata": {
        "colab": {
          "base_uri": "https://localhost:8080/"
        },
        "id": "aducIgL9jESu",
        "outputId": "b3dd2589-3f9e-45d3-96c1-f13b97761e5f"
      },
      "outputs": [
        {
          "data": {
            "text/plain": [
              "Parameter containing:\n",
              "tensor([-0.3522], requires_grad=True)"
            ]
          },
          "execution_count": 8,
          "metadata": {},
          "output_type": "execute_result"
        }
      ],
      "source": [
        "model.linear2.bias"
      ]
    },
    {
      "cell_type": "code",
      "execution_count": 10,
      "metadata": {
        "colab": {
          "base_uri": "https://localhost:8080/"
        },
        "id": "jjUYOr8SL0fT",
        "outputId": "150a2685-c0f9-4862-8410-6ed9545c9572"
      },
      "outputs": [
        {
          "name": "stdout",
          "output_type": "stream",
          "text": [
            "Collecting torchinfo\n",
            "  Downloading torchinfo-1.8.0-py3-none-any.whl.metadata (21 kB)\n",
            "Downloading torchinfo-1.8.0-py3-none-any.whl (23 kB)\n",
            "Installing collected packages: torchinfo\n",
            "Successfully installed torchinfo-1.8.0\n"
          ]
        }
      ],
      "source": [
        "!pip install torchinfo"
      ]
    },
    {
      "cell_type": "code",
      "execution_count": 11,
      "metadata": {
        "id": "FPIDABcGL6IL"
      },
      "outputs": [],
      "source": [
        "from torchinfo import summary"
      ]
    },
    {
      "cell_type": "code",
      "execution_count": 12,
      "metadata": {
        "colab": {
          "base_uri": "https://localhost:8080/"
        },
        "id": "uCYjxw8nMB7Y",
        "outputId": "9faabfca-5770-47f9-fd57-be3a9d8351a7"
      },
      "outputs": [
        {
          "data": {
            "text/plain": [
              "==========================================================================================\n",
              "Layer (type:depth-idx)                   Output Shape              Param #\n",
              "==========================================================================================\n",
              "Model                                    [10, 1]                   --\n",
              "├─Linear: 1-1                            [10, 3]                   18\n",
              "├─ReLU: 1-2                              [10, 3]                   --\n",
              "├─Linear: 1-3                            [10, 1]                   4\n",
              "├─Sigmoid: 1-4                           [10, 1]                   --\n",
              "==========================================================================================\n",
              "Total params: 22\n",
              "Trainable params: 22\n",
              "Non-trainable params: 0\n",
              "Total mult-adds (Units.MEGABYTES): 0.00\n",
              "==========================================================================================\n",
              "Input size (MB): 0.00\n",
              "Forward/backward pass size (MB): 0.00\n",
              "Params size (MB): 0.00\n",
              "Estimated Total Size (MB): 0.00\n",
              "=========================================================================================="
            ]
          },
          "execution_count": 12,
          "metadata": {},
          "output_type": "execute_result"
        }
      ],
      "source": [
        "summary(model, input_size=(10, 5))"
      ]
    }
  ],
  "metadata": {
    "colab": {
      "provenance": []
    },
    "kernelspec": {
      "display_name": "Python 3",
      "name": "python3"
    },
    "language_info": {
      "name": "python"
    }
  },
  "nbformat": 4,
  "nbformat_minor": 0
}

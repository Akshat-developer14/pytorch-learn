{
 "cells": [
  {
   "cell_type": "markdown",
   "id": "f274a126",
   "metadata": {},
   "source": [
    "# Pytorch basics"
   ]
  },
  {
   "cell_type": "code",
   "execution_count": 2,
   "id": "c55f3d29",
   "metadata": {},
   "outputs": [],
   "source": [
    "# import torch ( pytorch library )\n",
    "import torch"
   ]
  },
  {
   "cell_type": "markdown",
   "id": "b4251319",
   "metadata": {},
   "source": [
    "- Checking the version of pytorch"
   ]
  },
  {
   "cell_type": "code",
   "execution_count": 3,
   "id": "482fc441",
   "metadata": {},
   "outputs": [
    {
     "name": "stdout",
     "output_type": "stream",
     "text": [
      "2.7.1+cpu\n"
     ]
    }
   ],
   "source": [
    "# check the version\n",
    "print(torch.__version__)"
   ]
  },
  {
   "cell_type": "markdown",
   "id": "5e26ab4d",
   "metadata": {},
   "source": [
    "- Checking if cuda is available means gpu is available."
   ]
  },
  {
   "cell_type": "code",
   "execution_count": 4,
   "id": "43999875",
   "metadata": {},
   "outputs": [
    {
     "name": "stdout",
     "output_type": "stream",
     "text": [
      "CUDA is not available. Using CPU thank you.\n"
     ]
    }
   ],
   "source": [
    "if torch.cuda.is_available():\n",
    "    print(\"CUDA is available\")\n",
    "    print(f\"Using GPU: {torch.cuda.get_device_name(0)}\")\n",
    "else:\n",
    "    print(\"CUDA is not available. Using CPU thank you.\")"
   ]
  },
  {
   "cell_type": "markdown",
   "id": "f41e4fcf",
   "metadata": {},
   "source": [
    "## Creating a tensor"
   ]
  },
  {
   "cell_type": "code",
   "execution_count": 5,
   "id": "a6941eff",
   "metadata": {},
   "outputs": [
    {
     "name": "stdout",
     "output_type": "stream",
     "text": [
      "tensor([[0., 0., 0., 0.],\n",
      "        [0., 0., 0., 0.],\n",
      "        [0., 0., 0., 0.]])\n"
     ]
    }
   ],
   "source": [
    "# using empty\n",
    "# just some garbage values\n",
    "# can be different values at different times\n",
    "a = torch.empty(3, 4)\n",
    "print(a)"
   ]
  },
  {
   "cell_type": "code",
   "execution_count": 6,
   "id": "a6df9b74",
   "metadata": {},
   "outputs": [
    {
     "name": "stdout",
     "output_type": "stream",
     "text": [
      "torch.FloatTensor\n"
     ]
    }
   ],
   "source": [
    "# checking the type of tensor\n",
    "print(a.type())"
   ]
  },
  {
   "cell_type": "markdown",
   "id": "b4afbf97",
   "metadata": {},
   "source": [
    "ZEROS\n",
    "- generate zero values tensor"
   ]
  },
  {
   "cell_type": "code",
   "execution_count": 7,
   "id": "de982e48",
   "metadata": {},
   "outputs": [
    {
     "data": {
      "text/plain": [
       "tensor([[0., 0.],\n",
       "        [0., 0.],\n",
       "        [0., 0.]])"
      ]
     },
     "execution_count": 7,
     "metadata": {},
     "output_type": "execute_result"
    }
   ],
   "source": [
    "# creating a tensor with zero values\n",
    "torch.zeros(3, 2)"
   ]
  },
  {
   "cell_type": "markdown",
   "id": "030ba7b0",
   "metadata": {},
   "source": [
    "ONES\n",
    "- generate one values tensor"
   ]
  },
  {
   "cell_type": "code",
   "execution_count": 8,
   "id": "943e8861",
   "metadata": {},
   "outputs": [
    {
     "data": {
      "text/plain": [
       "tensor([[1., 1., 1., 1., 1.],\n",
       "        [1., 1., 1., 1., 1.]])"
      ]
     },
     "execution_count": 8,
     "metadata": {},
     "output_type": "execute_result"
    }
   ],
   "source": [
    "# creating a tensor with one values\n",
    "torch.ones(2, 5)"
   ]
  },
  {
   "cell_type": "markdown",
   "id": "e4537485",
   "metadata": {},
   "source": [
    "RAND\n",
    "- generate random values between 0 and 1"
   ]
  },
  {
   "cell_type": "code",
   "execution_count": 9,
   "id": "a8a007c7",
   "metadata": {},
   "outputs": [
    {
     "data": {
      "text/plain": [
       "tensor([[0.5902, 0.3886, 0.0365, 0.8438],\n",
       "        [0.8314, 0.3827, 0.0115, 0.5459],\n",
       "        [0.6480, 0.5533, 0.2756, 0.5847]])"
      ]
     },
     "execution_count": 9,
     "metadata": {},
     "output_type": "execute_result"
    }
   ],
   "source": [
    "# creating a tensor with random values\n",
    "# values are between 0 and 1\n",
    "torch.rand(3, 4)"
   ]
  },
  {
   "cell_type": "code",
   "execution_count": 10,
   "id": "e4ce02c9",
   "metadata": {},
   "outputs": [
    {
     "data": {
      "text/plain": [
       "tensor([[0.3987, 0.9425, 0.4205, 0.5798],\n",
       "        [0.3801, 0.3612, 0.7194, 0.6735],\n",
       "        [0.5768, 0.2619, 0.9350, 0.1763]])"
      ]
     },
     "execution_count": 10,
     "metadata": {},
     "output_type": "execute_result"
    }
   ],
   "source": [
    "torch.rand(3, 4)"
   ]
  },
  {
   "cell_type": "markdown",
   "id": "4a057566",
   "metadata": {},
   "source": [
    "SEED\n",
    "- At some point of time we want all random values to be same in rand which not happens in rand normally\n",
    "- For that we use seed."
   ]
  },
  {
   "cell_type": "code",
   "execution_count": 11,
   "id": "26439820",
   "metadata": {},
   "outputs": [
    {
     "data": {
      "text/plain": [
       "tensor([[0.1117, 0.8158, 0.2626],\n",
       "        [0.4839, 0.6765, 0.7539]])"
      ]
     },
     "execution_count": 11,
     "metadata": {},
     "output_type": "execute_result"
    }
   ],
   "source": [
    "torch.manual_seed(100)\n",
    "torch.rand(2, 3)"
   ]
  },
  {
   "cell_type": "code",
   "execution_count": 12,
   "id": "212a60b2",
   "metadata": {},
   "outputs": [
    {
     "data": {
      "text/plain": [
       "tensor([[0.1117, 0.8158, 0.2626],\n",
       "        [0.4839, 0.6765, 0.7539]])"
      ]
     },
     "execution_count": 12,
     "metadata": {},
     "output_type": "execute_result"
    }
   ],
   "source": [
    "torch.manual_seed(100)\n",
    "torch.rand(2, 3)"
   ]
  },
  {
   "cell_type": "code",
   "execution_count": 13,
   "id": "d39fe174",
   "metadata": {},
   "outputs": [
    {
     "data": {
      "text/plain": [
       "tensor([[0.4581, 0.4829, 0.3125],\n",
       "        [0.6150, 0.2139, 0.4118]])"
      ]
     },
     "execution_count": 13,
     "metadata": {},
     "output_type": "execute_result"
    }
   ],
   "source": [
    "torch.manual_seed(10)\n",
    "torch.rand(2, 3)"
   ]
  },
  {
   "cell_type": "code",
   "execution_count": 14,
   "id": "4a8705b5",
   "metadata": {},
   "outputs": [
    {
     "data": {
      "text/plain": [
       "tensor([[0.4581, 0.4829, 0.3125],\n",
       "        [0.6150, 0.2139, 0.4118]])"
      ]
     },
     "execution_count": 14,
     "metadata": {},
     "output_type": "execute_result"
    }
   ],
   "source": [
    "torch.manual_seed(10)\n",
    "torch.rand(2, 3)"
   ]
  },
  {
   "cell_type": "markdown",
   "id": "a356a75e",
   "metadata": {},
   "source": [
    "torch.tensor([1, 2, 3])\n",
    "- torch.tensor([1, 2, 3], dtype=torch.float32)\n",
    "- torch.tensor([1, 2, 3], dtype=torch.float64)\n",
    "- torch.tensor([1, 2, 3], dtype=torch.float16)\n",
    "- torch.tensor([1, 2, 3], dtype=torch.int32)\n",
    "- torch.tensor([1, 2, 3], dtype=torch.int64)\n",
    "- torch.tensor([1, 2, 3], dtype=torch.int16)\n",
    "\n",
    "This is how we can create a tensor with a specific data type and values."
   ]
  },
  {
   "cell_type": "code",
   "execution_count": 15,
   "id": "167dce65",
   "metadata": {},
   "outputs": [
    {
     "data": {
      "text/plain": [
       "tensor([[1, 2, 3],\n",
       "        [4, 5, 6]])"
      ]
     },
     "execution_count": 15,
     "metadata": {},
     "output_type": "execute_result"
    }
   ],
   "source": [
    "torch.tensor([[1, 2, 3], [4, 5, 6]])"
   ]
  },
  {
   "cell_type": "markdown",
   "id": "615c625b",
   "metadata": {},
   "source": [
    "arange\n",
    "- To create a range of values\n",
    "- arange(start, end, step)"
   ]
  },
  {
   "cell_type": "code",
   "execution_count": 16,
   "id": "98b3e01c",
   "metadata": {},
   "outputs": [
    {
     "data": {
      "text/plain": [
       "tensor([1, 2, 3, 4, 5, 6, 7, 8, 9])"
      ]
     },
     "execution_count": 16,
     "metadata": {},
     "output_type": "execute_result"
    }
   ],
   "source": [
    "# Without step size\n",
    "torch.arange(1, 10)"
   ]
  },
  {
   "cell_type": "code",
   "execution_count": 17,
   "id": "7eaab21e",
   "metadata": {},
   "outputs": [
    {
     "data": {
      "text/plain": [
       "tensor([1, 3, 5, 7, 9])"
      ]
     },
     "execution_count": 17,
     "metadata": {},
     "output_type": "execute_result"
    }
   ],
   "source": [
    "# With step size\n",
    "torch.arange(1, 10, 2)"
   ]
  },
  {
   "cell_type": "markdown",
   "id": "9e2b410f",
   "metadata": {},
   "source": [
    "linspace (linearly spaced array)\n",
    "- It is used to create a 1-D array with evenly spaced elements within a specified range."
   ]
  },
  {
   "cell_type": "code",
   "execution_count": 18,
   "id": "6ff21898",
   "metadata": {},
   "outputs": [
    {
     "data": {
      "text/plain": [
       "tensor([ 1.,  2.,  3.,  4.,  5.,  6.,  7.,  8.,  9., 10.])"
      ]
     },
     "execution_count": 18,
     "metadata": {},
     "output_type": "execute_result"
    }
   ],
   "source": [
    "# creating 10 evenly spaced values between 1 and 10\n",
    "torch.linspace(1, 10, 10)"
   ]
  },
  {
   "cell_type": "code",
   "execution_count": 19,
   "id": "4e3859a2",
   "metadata": {},
   "outputs": [
    {
     "data": {
      "text/plain": [
       "tensor([  1.0000,   6.2105,  11.4211,  16.6316,  21.8421,  27.0526,  32.2632,\n",
       "         37.4737,  42.6842,  47.8947,  53.1053,  58.3158,  63.5263,  68.7368,\n",
       "         73.9474,  79.1579,  84.3684,  89.5789,  94.7895, 100.0000])"
      ]
     },
     "execution_count": 19,
     "metadata": {},
     "output_type": "execute_result"
    }
   ],
   "source": [
    "torch.linspace(1, 100, 20)\n",
    "# creating 20 evenly spaced values between 1 and 100"
   ]
  },
  {
   "cell_type": "markdown",
   "id": "6a4f332e",
   "metadata": {},
   "source": [
    "EYE\n",
    "- It creates a identity matrix which is also a diagonal and square matrix.\n",
    "- It looks like this and can be of different dimensions.\n",
    "\n",
    "[\n",
    "    [1, 0, 0],\n",
    "    [0, 1, 0],\n",
    "    [0, 0, 1]\n",
    "]"
   ]
  },
  {
   "cell_type": "code",
   "execution_count": 20,
   "id": "06ddd189",
   "metadata": {},
   "outputs": [
    {
     "data": {
      "text/plain": [
       "tensor([[1., 0., 0., 0., 0., 0.],\n",
       "        [0., 1., 0., 0., 0., 0.],\n",
       "        [0., 0., 1., 0., 0., 0.],\n",
       "        [0., 0., 0., 1., 0., 0.],\n",
       "        [0., 0., 0., 0., 1., 0.],\n",
       "        [0., 0., 0., 0., 0., 1.]])"
      ]
     },
     "execution_count": 20,
     "metadata": {},
     "output_type": "execute_result"
    }
   ],
   "source": [
    "torch.eye(6)"
   ]
  },
  {
   "cell_type": "markdown",
   "id": "f7a25075",
   "metadata": {},
   "source": [
    "full\n",
    "- Creates a tensor of any size and fills it with value you give."
   ]
  },
  {
   "cell_type": "code",
   "execution_count": 21,
   "id": "055321b0",
   "metadata": {},
   "outputs": [
    {
     "data": {
      "text/plain": [
       "tensor([[5, 5, 5],\n",
       "        [5, 5, 5],\n",
       "        [5, 5, 5]])"
      ]
     },
     "execution_count": 21,
     "metadata": {},
     "output_type": "execute_result"
    }
   ],
   "source": [
    "torch.full((3, 3), 5)"
   ]
  },
  {
   "cell_type": "markdown",
   "id": "929ba21e",
   "metadata": {},
   "source": [
    "## Tensor Shapes"
   ]
  },
  {
   "cell_type": "code",
   "execution_count": 22,
   "id": "781b1ceb",
   "metadata": {},
   "outputs": [
    {
     "data": {
      "text/plain": [
       "tensor([[1, 2, 3],\n",
       "        [4, 5, 6]])"
      ]
     },
     "execution_count": 22,
     "metadata": {},
     "output_type": "execute_result"
    }
   ],
   "source": [
    "x = torch.tensor([[1, 2, 3], [4, 5, 6]])\n",
    "x"
   ]
  },
  {
   "cell_type": "markdown",
   "id": "2f532b29",
   "metadata": {},
   "source": [
    "- To check shape of a tensor"
   ]
  },
  {
   "cell_type": "code",
   "execution_count": 30,
   "id": "570727e5",
   "metadata": {},
   "outputs": [
    {
     "data": {
      "text/plain": [
       "torch.Size([2, 3])"
      ]
     },
     "execution_count": 30,
     "metadata": {},
     "output_type": "execute_result"
    }
   ],
   "source": [
    "x.shape"
   ]
  },
  {
   "cell_type": "markdown",
   "id": "edd5e0ab",
   "metadata": {},
   "source": [
    "- How to check some information about the tensor"
   ]
  },
  {
   "cell_type": "code",
   "execution_count": 24,
   "id": "ebbc4096",
   "metadata": {},
   "outputs": [
    {
     "name": "stdout",
     "output_type": "stream",
     "text": [
      "torch.Size([2, 3])\n",
      "torch.int64\n",
      "cpu\n"
     ]
    }
   ],
   "source": [
    "# checking shape of a tensor\n",
    "print(x.shape)\n",
    "\n",
    "# checking the data type of a tensor\n",
    "print(x.dtype)\n",
    "\n",
    "# checking the device of a tensor\n",
    "print(x.device)"
   ]
  },
  {
   "cell_type": "markdown",
   "id": "6713086e",
   "metadata": {},
   "source": [
    "- To make a tensor with any values but of same shape as another tensor, we can use torch.empty_like()"
   ]
  },
  {
   "cell_type": "code",
   "execution_count": 25,
   "id": "f177dac2",
   "metadata": {},
   "outputs": [
    {
     "data": {
      "text/plain": [
       "tensor([[4607182418800017408, 4607182418800017408, 4607182418800017408],\n",
       "        [4607182418800017408, 4607182418800017408, 4607182418800017408]])"
      ]
     },
     "execution_count": 25,
     "metadata": {},
     "output_type": "execute_result"
    }
   ],
   "source": [
    "torch.empty_like(x)"
   ]
  },
  {
   "cell_type": "code",
   "execution_count": 26,
   "id": "466a4deb",
   "metadata": {},
   "outputs": [
    {
     "data": {
      "text/plain": [
       "tensor([[0, 0, 0],\n",
       "        [0, 0, 0]])"
      ]
     },
     "execution_count": 26,
     "metadata": {},
     "output_type": "execute_result"
    }
   ],
   "source": [
    "torch.zeros_like(x)"
   ]
  },
  {
   "cell_type": "code",
   "execution_count": 27,
   "id": "2d0410a1",
   "metadata": {},
   "outputs": [
    {
     "data": {
      "text/plain": [
       "tensor([[1, 1, 1],\n",
       "        [1, 1, 1]])"
      ]
     },
     "execution_count": 27,
     "metadata": {},
     "output_type": "execute_result"
    }
   ],
   "source": [
    "torch.ones_like(x)"
   ]
  },
  {
   "cell_type": "code",
   "execution_count": 37,
   "id": "7734c481",
   "metadata": {},
   "outputs": [
    {
     "data": {
      "text/plain": [
       "tensor([[0.6938, 0.9693, 0.6178],\n",
       "        [0.3304, 0.5479, 0.4440]])"
      ]
     },
     "execution_count": 37,
     "metadata": {},
     "output_type": "execute_result"
    }
   ],
   "source": [
    "# torch.rand_like(x)\n",
    "'''\n",
    "This will give an error because the given tensor is of integer data type and we are trying to create a tensor of random values which are of float data type.\n",
    "'''\n",
    "\n",
    "# To solve the problem we can change the data type of the given tensor to float\n",
    "torch.rand_like(x, dtype=torch.float32)"
   ]
  },
  {
   "cell_type": "markdown",
   "id": "75813a1c",
   "metadata": {},
   "source": [
    "## Tensor data types"
   ]
  },
  {
   "cell_type": "markdown",
   "id": "d3035753",
   "metadata": {},
   "source": [
    "- To check the data type of a tensor, use the dtype attribute."
   ]
  },
  {
   "cell_type": "code",
   "execution_count": 31,
   "id": "c154d830",
   "metadata": {},
   "outputs": [
    {
     "data": {
      "text/plain": [
       "torch.int64"
      ]
     },
     "execution_count": 31,
     "metadata": {},
     "output_type": "execute_result"
    }
   ],
   "source": [
    "x.dtype"
   ]
  },
  {
   "cell_type": "markdown",
   "id": "2adea7d6",
   "metadata": {},
   "source": [
    "- Assign a data type, that can also be different from values"
   ]
  },
  {
   "cell_type": "code",
   "execution_count": 32,
   "id": "967983c7",
   "metadata": {},
   "outputs": [
    {
     "data": {
      "text/plain": [
       "tensor([1, 2, 3], dtype=torch.int32)"
      ]
     },
     "execution_count": 32,
     "metadata": {},
     "output_type": "execute_result"
    }
   ],
   "source": [
    "torch.tensor([1.0, 2.0, 3.0], dtype=torch.int32)"
   ]
  },
  {
   "cell_type": "markdown",
   "id": "4375ac0f",
   "metadata": {},
   "source": [
    "- Change the data type of existing tensor."
   ]
  },
  {
   "cell_type": "code",
   "execution_count": 35,
   "id": "86656b9e",
   "metadata": {},
   "outputs": [
    {
     "data": {
      "text/plain": [
       "tensor([[1., 2., 3.],\n",
       "        [4., 5., 6.]])"
      ]
     },
     "execution_count": 35,
     "metadata": {},
     "output_type": "execute_result"
    }
   ],
   "source": [
    "x.to(torch.float32)"
   ]
  }
 ],
 "metadata": {
  "kernelspec": {
   "display_name": "pytorch",
   "language": "python",
   "name": "python3"
  },
  "language_info": {
   "codemirror_mode": {
    "name": "ipython",
    "version": 3
   },
   "file_extension": ".py",
   "mimetype": "text/x-python",
   "name": "python",
   "nbconvert_exporter": "python",
   "pygments_lexer": "ipython3",
   "version": "3.12.6"
  }
 },
 "nbformat": 4,
 "nbformat_minor": 5
}

{
 "cells": [
  {
   "cell_type": "markdown",
   "id": "b0c48ad2",
   "metadata": {},
   "source": [
    "# Reshaping Tensors"
   ]
  },
  {
   "cell_type": "code",
   "execution_count": 2,
   "id": "ec965eaa",
   "metadata": {},
   "outputs": [],
   "source": [
    "import torch"
   ]
  },
  {
   "cell_type": "markdown",
   "id": "ba8a3b26",
   "metadata": {},
   "source": [
    "- To reshape a tensor we can use reshape() function.\n",
    "- It's important to note that the product of the dimensions of the reshaped tensor must be equal to the number of elements in the original tensor. Otherwise, it will raise an error."
   ]
  },
  {
   "cell_type": "code",
   "execution_count": 3,
   "id": "fc55c815",
   "metadata": {},
   "outputs": [
    {
     "data": {
      "text/plain": [
       "tensor([[1., 1., 1., 1.],\n",
       "        [1., 1., 1., 1.],\n",
       "        [1., 1., 1., 1.],\n",
       "        [1., 1., 1., 1.]])"
      ]
     },
     "execution_count": 3,
     "metadata": {},
     "output_type": "execute_result"
    }
   ],
   "source": [
    "a = torch.ones(4, 4)\n",
    "a"
   ]
  },
  {
   "cell_type": "code",
   "execution_count": 4,
   "id": "a6494d97",
   "metadata": {},
   "outputs": [
    {
     "data": {
      "text/plain": [
       "tensor([[[[1., 1.],\n",
       "          [1., 1.]],\n",
       "\n",
       "         [[1., 1.],\n",
       "          [1., 1.]]],\n",
       "\n",
       "\n",
       "        [[[1., 1.],\n",
       "          [1., 1.]],\n",
       "\n",
       "         [[1., 1.],\n",
       "          [1., 1.]]]])"
      ]
     },
     "execution_count": 4,
     "metadata": {},
     "output_type": "execute_result"
    }
   ],
   "source": [
    "# reshape\n",
    "a.reshape(2, 2, 2, 2)"
   ]
  },
  {
   "cell_type": "markdown",
   "id": "89b36925",
   "metadata": {},
   "source": [
    "flatten\n",
    "- It gives one dimensional array of original tensor."
   ]
  },
  {
   "cell_type": "code",
   "execution_count": 5,
   "id": "808910f7",
   "metadata": {},
   "outputs": [
    {
     "data": {
      "text/plain": [
       "tensor([1., 1., 1., 1., 1., 1., 1., 1., 1., 1., 1., 1., 1., 1., 1., 1.])"
      ]
     },
     "execution_count": 5,
     "metadata": {},
     "output_type": "execute_result"
    }
   ],
   "source": [
    "# flatten\n",
    "a.flatten()"
   ]
  },
  {
   "cell_type": "code",
   "execution_count": 6,
   "id": "c5d26805",
   "metadata": {},
   "outputs": [
    {
     "data": {
      "text/plain": [
       "tensor([[[0.9337, 0.7241, 0.4636, 0.6099],\n",
       "         [0.6482, 0.5949, 0.2438, 0.9422],\n",
       "         [0.8261, 0.7177, 0.2022, 0.9212]],\n",
       "\n",
       "        [[0.0745, 0.3761, 0.1352, 0.1870],\n",
       "         [0.5387, 0.2339, 0.7632, 0.4335],\n",
       "         [0.6510, 0.3861, 0.0517, 0.8970]]])"
      ]
     },
     "execution_count": 6,
     "metadata": {},
     "output_type": "execute_result"
    }
   ],
   "source": [
    "b = torch.rand(2, 3, 4)\n",
    "b"
   ]
  },
  {
   "cell_type": "markdown",
   "id": "3677dd4b",
   "metadata": {},
   "source": [
    "permute\n",
    "- We can change the order of the dimensions of a tensor.\n",
    "- It does not change the values of the tensor.\n",
    "- It just changes the order of the dimensions."
   ]
  },
  {
   "cell_type": "code",
   "execution_count": 7,
   "id": "eeb493be",
   "metadata": {},
   "outputs": [
    {
     "data": {
      "text/plain": [
       "tensor([[[0.9337, 0.6482, 0.8261],\n",
       "         [0.0745, 0.5387, 0.6510]],\n",
       "\n",
       "        [[0.7241, 0.5949, 0.7177],\n",
       "         [0.3761, 0.2339, 0.3861]],\n",
       "\n",
       "        [[0.4636, 0.2438, 0.2022],\n",
       "         [0.1352, 0.7632, 0.0517]],\n",
       "\n",
       "        [[0.6099, 0.9422, 0.9212],\n",
       "         [0.1870, 0.4335, 0.8970]]])"
      ]
     },
     "execution_count": 7,
     "metadata": {},
     "output_type": "execute_result"
    }
   ],
   "source": [
    "# permute\n",
    "b.permute(2, 0, 1)"
   ]
  },
  {
   "cell_type": "code",
   "execution_count": 9,
   "id": "8a624fa5",
   "metadata": {},
   "outputs": [
    {
     "name": "stdout",
     "output_type": "stream",
     "text": [
      "torch.Size([2, 3, 4])\n",
      "torch.Size([4, 2, 3])\n"
     ]
    }
   ],
   "source": [
    "print(b.shape)\n",
    "print(b.permute(2, 0, 1).shape)"
   ]
  },
  {
   "cell_type": "markdown",
   "id": "52a02e0a",
   "metadata": {},
   "source": [
    "unsqueeze\n",
    "- It adds a dimension to the tensor at the specified position.\n",
    "- unsqueeze(dim)\n",
    "- dim: dimension to be added"
   ]
  },
  {
   "cell_type": "code",
   "execution_count": 10,
   "id": "8aebfd76",
   "metadata": {},
   "outputs": [],
   "source": [
    "c = torch.rand(22, 23, 3)"
   ]
  },
  {
   "cell_type": "code",
   "execution_count": 12,
   "id": "02269888",
   "metadata": {},
   "outputs": [
    {
     "data": {
      "text/plain": [
       "torch.Size([1, 22, 23, 3])"
      ]
     },
     "execution_count": 12,
     "metadata": {},
     "output_type": "execute_result"
    }
   ],
   "source": [
    "c.unsqueeze(0).shape"
   ]
  },
  {
   "cell_type": "code",
   "execution_count": 13,
   "id": "7676c965",
   "metadata": {},
   "outputs": [
    {
     "data": {
      "text/plain": [
       "torch.Size([22, 1, 23, 3])"
      ]
     },
     "execution_count": 13,
     "metadata": {},
     "output_type": "execute_result"
    }
   ],
   "source": [
    "c.unsqueeze(1).shape"
   ]
  },
  {
   "cell_type": "markdown",
   "id": "f23b5838",
   "metadata": {},
   "source": [
    "squeeze\n",
    "- Opposite of unsqueeze\n",
    "- Removes the dimension of size 1"
   ]
  },
  {
   "cell_type": "code",
   "execution_count": 15,
   "id": "0de564b8",
   "metadata": {},
   "outputs": [
    {
     "name": "stdout",
     "output_type": "stream",
     "text": [
      "torch.Size([1, 20])\n"
     ]
    },
    {
     "data": {
      "text/plain": [
       "torch.Size([20])"
      ]
     },
     "execution_count": 15,
     "metadata": {},
     "output_type": "execute_result"
    }
   ],
   "source": [
    "d = torch.rand(1, 20)\n",
    "print(d.shape)\n",
    "d.squeeze(0).shape"
   ]
  }
 ],
 "metadata": {
  "kernelspec": {
   "display_name": "pytorch",
   "language": "python",
   "name": "python3"
  },
  "language_info": {
   "codemirror_mode": {
    "name": "ipython",
    "version": 3
   },
   "file_extension": ".py",
   "mimetype": "text/x-python",
   "name": "python",
   "nbconvert_exporter": "python",
   "pygments_lexer": "ipython3",
   "version": "3.12.6"
  }
 },
 "nbformat": 4,
 "nbformat_minor": 5
}

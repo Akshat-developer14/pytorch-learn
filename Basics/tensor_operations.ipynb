{
 "cells": [
  {
   "cell_type": "markdown",
   "id": "22d6af6d",
   "metadata": {},
   "source": [
    "# Tensor Operations"
   ]
  },
  {
   "cell_type": "code",
   "execution_count": 2,
   "id": "340a14ad",
   "metadata": {},
   "outputs": [],
   "source": [
    "import torch"
   ]
  },
  {
   "cell_type": "code",
   "execution_count": 3,
   "id": "b7f50559",
   "metadata": {},
   "outputs": [
    {
     "data": {
      "text/plain": [
       "tensor([[1, 2, 3],\n",
       "        [4, 5, 6]])"
      ]
     },
     "execution_count": 3,
     "metadata": {},
     "output_type": "execute_result"
    }
   ],
   "source": [
    "x = torch.tensor([[1, 2, 3], [4, 5, 6]])\n",
    "x"
   ]
  },
  {
   "cell_type": "code",
   "execution_count": 9,
   "id": "a0f9a1bf",
   "metadata": {},
   "outputs": [
    {
     "data": {
      "text/plain": [
       "tensor([[0.2712, 0.9539, 0.1595],\n",
       "        [0.0394, 0.9295, 0.7940],\n",
       "        [0.3199, 0.3517, 0.1860]])"
      ]
     },
     "execution_count": 9,
     "metadata": {},
     "output_type": "execute_result"
    }
   ],
   "source": [
    "x_float = torch.rand(3, 3)\n",
    "x_float"
   ]
  },
  {
   "cell_type": "code",
   "execution_count": 10,
   "id": "6cd4e9fc",
   "metadata": {},
   "outputs": [
    {
     "name": "stdout",
     "output_type": "stream",
     "text": [
      "\n",
      "Addition: \n",
      "tensor([[11, 12, 13],\n",
      "        [14, 15, 16]])\n",
      "\n",
      "Subtraction: \n",
      "tensor([[-9, -8, -7],\n",
      "        [-6, -5, -4]])\n",
      "\n",
      "Multiplication: \n",
      "tensor([[10, 20, 30],\n",
      "        [40, 50, 60]])\n",
      "\n",
      "Division: \n",
      "tensor([[0.1000, 0.2000, 0.3000],\n",
      "        [0.4000, 0.5000, 0.6000]])\n",
      "\n",
      "Power: \n",
      "tensor([[ 1,  4,  9],\n",
      "        [16, 25, 36]])\n",
      "\n",
      "Integer Division: \n",
      "tensor([[13., 47.,  7.],\n",
      "        [ 1., 46., 39.],\n",
      "        [15., 17.,  9.]])\n",
      "\n",
      "Modulus: \n",
      "tensor([[1, 0, 1],\n",
      "        [0, 1, 0]])\n"
     ]
    }
   ],
   "source": [
    "# addition\n",
    "print(f\"\\nAddition: \\n{x + 10}\")\n",
    "\n",
    "# subtraction\n",
    "print(f\"\\nSubtraction: \\n{x - 10}\")\n",
    "\n",
    "# multiplication\n",
    "print(f\"\\nMultiplication: \\n{x * 10}\")\n",
    "\n",
    "# division\n",
    "print(f\"\\nDivision: \\n{x / 10}\")\n",
    "\n",
    "# power\n",
    "print(f\"\\nPower: \\n{x ** 2}\")\n",
    "\n",
    "# integer division\n",
    "# integer division means that the result will be an integer\n",
    "print(f\"\\nInteger Division: \\n{(x_float * 100) // 2}\")\n",
    "\n",
    "# modulus\n",
    "print(f\"\\nModulus: \\n{x % 2}\")\n"
   ]
  },
  {
   "cell_type": "markdown",
   "id": "093c6a48",
   "metadata": {},
   "source": [
    "## Element-wise operations"
   ]
  },
  {
   "cell_type": "code",
   "execution_count": 11,
   "id": "fed9e498",
   "metadata": {},
   "outputs": [
    {
     "name": "stdout",
     "output_type": "stream",
     "text": [
      "\n",
      "A: \n",
      "tensor([[0.1024, 0.0502, 0.4127],\n",
      "        [0.7942, 0.2612, 0.3498]])\n",
      "\n",
      "B: \n",
      "tensor([[0.8156, 0.6370, 0.2155],\n",
      "        [0.9404, 0.3565, 0.1911]])\n"
     ]
    }
   ],
   "source": [
    "a = torch.rand(2, 3)\n",
    "b = torch.rand(2, 3)\n",
    "\n",
    "print(f\"\\nA: \\n{a}\")\n",
    "print(f\"\\nB: \\n{b}\")"
   ]
  },
  {
   "cell_type": "code",
   "execution_count": 12,
   "id": "c29fcb07",
   "metadata": {},
   "outputs": [
    {
     "name": "stdout",
     "output_type": "stream",
     "text": [
      "tensor([[0.9180, 0.6872, 0.6282],\n",
      "        [1.7347, 0.6177, 0.5409]])\n",
      "tensor([[-0.7132, -0.5869,  0.1971],\n",
      "        [-0.1462, -0.0953,  0.1586]])\n",
      "tensor([[0.0835, 0.0320, 0.0889],\n",
      "        [0.7469, 0.0931, 0.0668]])\n",
      "tensor([[0.1256, 0.0788, 1.9147],\n",
      "        [0.8445, 0.7328, 1.8301]])\n",
      "tensor([[0.1559, 0.1486, 0.8263],\n",
      "        [0.8052, 0.6197, 0.8181]])\n",
      "tensor([[0.1024, 0.0502, 0.1971],\n",
      "        [0.7942, 0.2612, 0.1586]])\n"
     ]
    }
   ],
   "source": [
    "# add\n",
    "print(a + b)\n",
    "\n",
    "# subtract\n",
    "print(a - b)\n",
    "\n",
    "# multiply\n",
    "print(a * b)\n",
    "\n",
    "# divide\n",
    "print(a / b)\n",
    "\n",
    "# power\n",
    "print(a ** b)\n",
    "\n",
    "# modulus\n",
    "print(a % b)"
   ]
  },
  {
   "cell_type": "markdown",
   "id": "dce77044",
   "metadata": {},
   "source": [
    "abs\n",
    "- to make all values positive\n",
    "- absolute value\n",
    "\n",
    "torch.abs(x)"
   ]
  },
  {
   "cell_type": "code",
   "execution_count": 14,
   "id": "f3169367",
   "metadata": {},
   "outputs": [
    {
     "data": {
      "text/plain": [
       "tensor([[1, 2, 3],\n",
       "        [4, 5, 6]])"
      ]
     },
     "execution_count": 14,
     "metadata": {},
     "output_type": "execute_result"
    }
   ],
   "source": [
    "c = torch.tensor([[-1, -2, 3], [4, -5, 6]])\n",
    "torch.abs(c)"
   ]
  },
  {
   "cell_type": "markdown",
   "id": "4706bd60",
   "metadata": {},
   "source": [
    "round\n",
    "- To round off the values"
   ]
  },
  {
   "cell_type": "code",
   "execution_count": 16,
   "id": "7f5e9394",
   "metadata": {},
   "outputs": [
    {
     "data": {
      "text/plain": [
       "tensor([2., 2., 4., 5., 5., 6.])"
      ]
     },
     "execution_count": 16,
     "metadata": {},
     "output_type": "execute_result"
    }
   ],
   "source": [
    "d = torch.tensor([1.8, 2.3, 3.5, 4.7, 5.2, 6.4])\n",
    "torch.round(d)"
   ]
  },
  {
   "cell_type": "markdown",
   "id": "c48e259f",
   "metadata": {},
   "source": [
    "ceil\n",
    "- Go to next upper integer"
   ]
  },
  {
   "cell_type": "code",
   "execution_count": 17,
   "id": "46c11c8e",
   "metadata": {},
   "outputs": [
    {
     "data": {
      "text/plain": [
       "tensor([2., 3., 4., 5., 6., 7.])"
      ]
     },
     "execution_count": 17,
     "metadata": {},
     "output_type": "execute_result"
    }
   ],
   "source": [
    "torch.ceil(d)"
   ]
  },
  {
   "cell_type": "markdown",
   "id": "4b80d1c5",
   "metadata": {},
   "source": [
    "floor\n",
    "- Opposite of ceil\n",
    "- Goes down to the nearest (lower) integer"
   ]
  },
  {
   "cell_type": "code",
   "execution_count": 19,
   "id": "53dfcd99",
   "metadata": {},
   "outputs": [
    {
     "data": {
      "text/plain": [
       "tensor([1., 2., 3., 4., 5., 6.])"
      ]
     },
     "execution_count": 19,
     "metadata": {},
     "output_type": "execute_result"
    }
   ],
   "source": [
    "torch.floor(d)"
   ]
  },
  {
   "cell_type": "markdown",
   "id": "32f1bd77",
   "metadata": {},
   "source": [
    "clamp\n",
    "- All numbers will become in a specified range.\n",
    "- torch.clamp(input, min, max)\n",
    "- input: tensor to be clamped\n",
    "- min: minimum value\n",
    "- max: maximum value\n",
    "\n",
    "Values less that min will be set to min\n",
    "Values greater than max will be set to max\n",
    "Values between min and max will remain the same"
   ]
  },
  {
   "cell_type": "code",
   "execution_count": 18,
   "id": "9a0b02b7",
   "metadata": {},
   "outputs": [
    {
     "data": {
      "text/plain": [
       "tensor([2.0000, 2.3000, 3.5000, 4.7000, 5.0000, 5.0000])"
      ]
     },
     "execution_count": 18,
     "metadata": {},
     "output_type": "execute_result"
    }
   ],
   "source": [
    "torch.clamp(d, min=2, max=5)"
   ]
  },
  {
   "cell_type": "markdown",
   "id": "a40d61eb",
   "metadata": {},
   "source": [
    "## Reduction Operation"
   ]
  },
  {
   "cell_type": "code",
   "execution_count": 29,
   "id": "b333ebc2",
   "metadata": {},
   "outputs": [
    {
     "data": {
      "text/plain": [
       "tensor([[8., 5., 9.],\n",
       "        [0., 5., 5.],\n",
       "        [5., 1., 8.]])"
      ]
     },
     "execution_count": 29,
     "metadata": {},
     "output_type": "execute_result"
    }
   ],
   "source": [
    "e = torch.randint(size=(3, 3), low=0, high=10, dtype=torch.float32)\n",
    "e"
   ]
  },
  {
   "cell_type": "code",
   "execution_count": 30,
   "id": "06c19022",
   "metadata": {},
   "outputs": [
    {
     "data": {
      "text/plain": [
       "tensor(46.)"
      ]
     },
     "execution_count": 30,
     "metadata": {},
     "output_type": "execute_result"
    }
   ],
   "source": [
    "#sum\n",
    "torch.sum(e)"
   ]
  },
  {
   "cell_type": "code",
   "execution_count": 31,
   "id": "9323cb9b",
   "metadata": {},
   "outputs": [
    {
     "data": {
      "text/plain": [
       "tensor([13., 11., 22.])"
      ]
     },
     "execution_count": 31,
     "metadata": {},
     "output_type": "execute_result"
    }
   ],
   "source": [
    "# sum along columns\n",
    "torch.sum(e, dim=0)"
   ]
  },
  {
   "cell_type": "code",
   "execution_count": 32,
   "id": "3a76a802",
   "metadata": {},
   "outputs": [
    {
     "data": {
      "text/plain": [
       "tensor([22., 10., 14.])"
      ]
     },
     "execution_count": 32,
     "metadata": {},
     "output_type": "execute_result"
    }
   ],
   "source": [
    "# sum along rows\n",
    "torch.sum(e, dim=1)"
   ]
  },
  {
   "cell_type": "code",
   "execution_count": 35,
   "id": "10faf618",
   "metadata": {},
   "outputs": [
    {
     "data": {
      "text/plain": [
       "tensor(5.1111)"
      ]
     },
     "execution_count": 35,
     "metadata": {},
     "output_type": "execute_result"
    }
   ],
   "source": [
    "# mean\n",
    "# but only works in float not integer\n",
    "torch.mean(e)"
   ]
  },
  {
   "cell_type": "code",
   "execution_count": 36,
   "id": "6df1fc3c",
   "metadata": {},
   "outputs": [
    {
     "data": {
      "text/plain": [
       "tensor([4.3333, 3.6667, 7.3333])"
      ]
     },
     "execution_count": 36,
     "metadata": {},
     "output_type": "execute_result"
    }
   ],
   "source": [
    "# mean along columns\n",
    "torch.mean(e, dim=0)"
   ]
  },
  {
   "cell_type": "code",
   "execution_count": 37,
   "id": "f5e84509",
   "metadata": {},
   "outputs": [
    {
     "data": {
      "text/plain": [
       "tensor(5.)"
      ]
     },
     "execution_count": 37,
     "metadata": {},
     "output_type": "execute_result"
    }
   ],
   "source": [
    "# median\n",
    "torch.median(e)"
   ]
  },
  {
   "cell_type": "code",
   "execution_count": 38,
   "id": "cd3f03f9",
   "metadata": {},
   "outputs": [
    {
     "data": {
      "text/plain": [
       "(tensor(9.), tensor(0.))"
      ]
     },
     "execution_count": 38,
     "metadata": {},
     "output_type": "execute_result"
    }
   ],
   "source": [
    "# max and min\n",
    "torch.max(e), torch.min(e)"
   ]
  },
  {
   "cell_type": "code",
   "execution_count": 39,
   "id": "5be67a1e",
   "metadata": {},
   "outputs": [
    {
     "data": {
      "text/plain": [
       "tensor(0.)"
      ]
     },
     "execution_count": 39,
     "metadata": {},
     "output_type": "execute_result"
    }
   ],
   "source": [
    "# product\n",
    "torch.prod(e)"
   ]
  },
  {
   "cell_type": "code",
   "execution_count": 40,
   "id": "88558896",
   "metadata": {},
   "outputs": [
    {
     "data": {
      "text/plain": [
       "tensor(3.0596)"
      ]
     },
     "execution_count": 40,
     "metadata": {},
     "output_type": "execute_result"
    }
   ],
   "source": [
    "# standard deviation\n",
    "torch.std(e)"
   ]
  },
  {
   "cell_type": "code",
   "execution_count": 41,
   "id": "01d68775",
   "metadata": {},
   "outputs": [
    {
     "data": {
      "text/plain": [
       "tensor(9.3611)"
      ]
     },
     "execution_count": 41,
     "metadata": {},
     "output_type": "execute_result"
    }
   ],
   "source": [
    "# variance\n",
    "torch.var(e)"
   ]
  },
  {
   "cell_type": "code",
   "execution_count": 42,
   "id": "f85bb50e",
   "metadata": {},
   "outputs": [
    {
     "data": {
      "text/plain": [
       "(tensor(2), tensor(3))"
      ]
     },
     "execution_count": 42,
     "metadata": {},
     "output_type": "execute_result"
    }
   ],
   "source": [
    "# argmax and argmin\n",
    "# returns the index of the maximum (argmax) and minimum (argmin) values\n",
    "torch.argmax(e), torch.argmin(e)"
   ]
  },
  {
   "cell_type": "markdown",
   "id": "dc93b08e",
   "metadata": {},
   "source": [
    "## Matrix Operations"
   ]
  },
  {
   "cell_type": "code",
   "execution_count": 43,
   "id": "8c1193d6",
   "metadata": {},
   "outputs": [
    {
     "name": "stdout",
     "output_type": "stream",
     "text": [
      "\n",
      "F: \n",
      "tensor([[6, 8, 5],\n",
      "        [1, 9, 5],\n",
      "        [7, 5, 3]])\n",
      "\n",
      "G: \n",
      "tensor([[9, 4, 3],\n",
      "        [1, 1, 2],\n",
      "        [2, 1, 7]])\n"
     ]
    }
   ],
   "source": [
    "f = torch.randint(size=(3, 3), low=0, high=10)\n",
    "g = torch.randint(size=(3, 3), low=0, high=10)\n",
    "\n",
    "print(f\"\\nF: \\n{f}\")\n",
    "print(f\"\\nG: \\n{g}\")"
   ]
  },
  {
   "cell_type": "code",
   "execution_count": 44,
   "id": "595e9e08",
   "metadata": {},
   "outputs": [
    {
     "data": {
      "text/plain": [
       "tensor([[72, 37, 69],\n",
       "        [28, 18, 56],\n",
       "        [74, 36, 52]])"
      ]
     },
     "execution_count": 44,
     "metadata": {},
     "output_type": "execute_result"
    }
   ],
   "source": [
    "# matrix multiplication\n",
    "torch.matmul(f, g)"
   ]
  },
  {
   "cell_type": "code",
   "execution_count": 45,
   "id": "3fcf3608",
   "metadata": {},
   "outputs": [
    {
     "data": {
      "text/plain": [
       "tensor(11)"
      ]
     },
     "execution_count": 45,
     "metadata": {},
     "output_type": "execute_result"
    }
   ],
   "source": [
    "vec1 = torch.tensor([1, 2])\n",
    "vec2 = torch.tensor([3, 4])\n",
    "\n",
    "# dot product\n",
    "torch.dot(vec1, vec2)"
   ]
  },
  {
   "cell_type": "code",
   "execution_count": 50,
   "id": "76f76d7c",
   "metadata": {},
   "outputs": [
    {
     "data": {
      "text/plain": [
       "tensor([[9, 0, 5],\n",
       "        [6, 4, 0],\n",
       "        [7, 0, 3]])"
      ]
     },
     "execution_count": 50,
     "metadata": {},
     "output_type": "execute_result"
    }
   ],
   "source": [
    "h = torch.randint(size=(3, 3), low=0, high=10)\n",
    "h"
   ]
  },
  {
   "cell_type": "code",
   "execution_count": 51,
   "id": "b06f8125",
   "metadata": {},
   "outputs": [
    {
     "data": {
      "text/plain": [
       "tensor([[9, 6, 7],\n",
       "        [0, 4, 0],\n",
       "        [5, 0, 3]])"
      ]
     },
     "execution_count": 51,
     "metadata": {},
     "output_type": "execute_result"
    }
   ],
   "source": [
    "# transpose\n",
    "h.T"
   ]
  },
  {
   "cell_type": "code",
   "execution_count": 54,
   "id": "86439737",
   "metadata": {},
   "outputs": [
    {
     "data": {
      "text/plain": [
       "tensor(-32.0000)"
      ]
     },
     "execution_count": 54,
     "metadata": {},
     "output_type": "execute_result"
    }
   ],
   "source": [
    "# determinant\n",
    "# work only in float and square matrix\n",
    "torch.det(h.float())"
   ]
  },
  {
   "cell_type": "code",
   "execution_count": 55,
   "id": "c6e3966f",
   "metadata": {},
   "outputs": [
    {
     "data": {
      "text/plain": [
       "tensor([[-0.3750,  0.0000,  0.6250],\n",
       "        [ 0.5625,  0.2500, -0.9375],\n",
       "        [ 0.8750, -0.0000, -1.1250]])"
      ]
     },
     "execution_count": 55,
     "metadata": {},
     "output_type": "execute_result"
    }
   ],
   "source": [
    "# inverse\n",
    "# work only in float and square matrix\n",
    "torch.inverse(h.float())"
   ]
  },
  {
   "cell_type": "markdown",
   "id": "86d96724",
   "metadata": {},
   "source": [
    "## Comparison Operations"
   ]
  },
  {
   "cell_type": "code",
   "execution_count": 56,
   "id": "55437202",
   "metadata": {},
   "outputs": [
    {
     "name": "stdout",
     "output_type": "stream",
     "text": [
      "\n",
      "I: \n",
      "tensor([[9, 9, 3],\n",
      "        [6, 0, 4],\n",
      "        [0, 5, 6]])\n",
      "\n",
      "J: \n",
      "tensor([[6, 1, 7],\n",
      "        [4, 3, 2],\n",
      "        [5, 6, 4]])\n"
     ]
    }
   ],
   "source": [
    "i = torch.randint(size=(3, 3), low=0, high=10)\n",
    "j = torch.randint(size=(3, 3), low=0, high=10)\n",
    "\n",
    "print(f\"\\nI: \\n{i}\")\n",
    "print(f\"\\nJ: \\n{j}\")"
   ]
  },
  {
   "cell_type": "code",
   "execution_count": 58,
   "id": "3b37c9e2",
   "metadata": {},
   "outputs": [
    {
     "name": "stdout",
     "output_type": "stream",
     "text": [
      "tensor([[ True,  True, False],\n",
      "        [ True, False,  True],\n",
      "        [False, False,  True]])\n"
     ]
    },
    {
     "data": {
      "text/plain": [
       "tensor([[ True,  True, False],\n",
       "        [ True, False,  True],\n",
       "        [False, False,  True]])"
      ]
     },
     "execution_count": 58,
     "metadata": {},
     "output_type": "execute_result"
    }
   ],
   "source": [
    "# greater than\n",
    "print(i > j)\n",
    "torch.gt(i, j)"
   ]
  },
  {
   "cell_type": "code",
   "execution_count": 59,
   "id": "5bd5f691",
   "metadata": {},
   "outputs": [
    {
     "name": "stdout",
     "output_type": "stream",
     "text": [
      "tensor([[ True,  True, False],\n",
      "        [ True, False,  True],\n",
      "        [False, False,  True]])\n"
     ]
    },
    {
     "data": {
      "text/plain": [
       "tensor([[ True,  True, False],\n",
       "        [ True, False,  True],\n",
       "        [False, False,  True]])"
      ]
     },
     "execution_count": 59,
     "metadata": {},
     "output_type": "execute_result"
    }
   ],
   "source": [
    "# greater than or equal to\n",
    "print(i >= j)\n",
    "torch.ge(i, j)"
   ]
  },
  {
   "cell_type": "code",
   "execution_count": 60,
   "id": "35cc62e0",
   "metadata": {},
   "outputs": [
    {
     "name": "stdout",
     "output_type": "stream",
     "text": [
      "tensor([[False, False,  True],\n",
      "        [False,  True, False],\n",
      "        [ True,  True, False]])\n"
     ]
    },
    {
     "data": {
      "text/plain": [
       "tensor([[False, False,  True],\n",
       "        [False,  True, False],\n",
       "        [ True,  True, False]])"
      ]
     },
     "execution_count": 60,
     "metadata": {},
     "output_type": "execute_result"
    }
   ],
   "source": [
    "# less than\n",
    "print(i < j)\n",
    "torch.lt(i, j)"
   ]
  },
  {
   "cell_type": "code",
   "execution_count": 62,
   "id": "02ba10fa",
   "metadata": {},
   "outputs": [
    {
     "name": "stdout",
     "output_type": "stream",
     "text": [
      "tensor([[False, False,  True],\n",
      "        [False,  True, False],\n",
      "        [ True,  True, False]])\n"
     ]
    },
    {
     "data": {
      "text/plain": [
       "tensor([[False, False,  True],\n",
       "        [False,  True, False],\n",
       "        [ True,  True, False]])"
      ]
     },
     "execution_count": 62,
     "metadata": {},
     "output_type": "execute_result"
    }
   ],
   "source": [
    "# less than or equal to\n",
    "print(i <= j)\n",
    "torch.le(i, j)"
   ]
  },
  {
   "cell_type": "code",
   "execution_count": 63,
   "id": "67f441c5",
   "metadata": {},
   "outputs": [
    {
     "name": "stdout",
     "output_type": "stream",
     "text": [
      "tensor([[False, False, False],\n",
      "        [False, False, False],\n",
      "        [False, False, False]])\n"
     ]
    },
    {
     "data": {
      "text/plain": [
       "tensor([[False, False, False],\n",
       "        [False, False, False],\n",
       "        [False, False, False]])"
      ]
     },
     "execution_count": 63,
     "metadata": {},
     "output_type": "execute_result"
    }
   ],
   "source": [
    "# equal to\n",
    "print(i == j)\n",
    "torch.eq(i, j)"
   ]
  },
  {
   "cell_type": "code",
   "execution_count": 64,
   "id": "aa859987",
   "metadata": {},
   "outputs": [
    {
     "name": "stdout",
     "output_type": "stream",
     "text": [
      "tensor([[True, True, True],\n",
      "        [True, True, True],\n",
      "        [True, True, True]])\n"
     ]
    },
    {
     "data": {
      "text/plain": [
       "tensor([[True, True, True],\n",
       "        [True, True, True],\n",
       "        [True, True, True]])"
      ]
     },
     "execution_count": 64,
     "metadata": {},
     "output_type": "execute_result"
    }
   ],
   "source": [
    "# not equal to\n",
    "print(i != j)\n",
    "torch.ne(i, j)"
   ]
  },
  {
   "cell_type": "markdown",
   "id": "f05a1e26",
   "metadata": {},
   "source": [
    "## Special functions"
   ]
  },
  {
   "cell_type": "code",
   "execution_count": 74,
   "id": "b1711ada",
   "metadata": {},
   "outputs": [
    {
     "data": {
      "text/plain": [
       "tensor([[8., 7., 4.],\n",
       "        [8., 9., 0.]])"
      ]
     },
     "execution_count": 74,
     "metadata": {},
     "output_type": "execute_result"
    }
   ],
   "source": [
    "k = torch.randint(size=(2, 3), low=0, high=10, dtype=torch.float32)\n",
    "k"
   ]
  },
  {
   "cell_type": "code",
   "execution_count": 75,
   "id": "0fdc695b",
   "metadata": {},
   "outputs": [
    {
     "data": {
      "text/plain": [
       "tensor([[2.0794, 1.9459, 1.3863],\n",
       "        [2.0794, 2.1972,   -inf]])"
      ]
     },
     "execution_count": 75,
     "metadata": {},
     "output_type": "execute_result"
    }
   ],
   "source": [
    "# log\n",
    "torch.log(k)"
   ]
  },
  {
   "cell_type": "code",
   "execution_count": 76,
   "id": "dc19bbf4",
   "metadata": {},
   "outputs": [
    {
     "data": {
      "text/plain": [
       "tensor([[2.9810e+03, 1.0966e+03, 5.4598e+01],\n",
       "        [2.9810e+03, 8.1031e+03, 1.0000e+00]])"
      ]
     },
     "execution_count": 76,
     "metadata": {},
     "output_type": "execute_result"
    }
   ],
   "source": [
    "# exp (exponents)\n",
    "torch.exp(k)"
   ]
  },
  {
   "cell_type": "code",
   "execution_count": 77,
   "id": "ed023d19",
   "metadata": {},
   "outputs": [
    {
     "data": {
      "text/plain": [
       "tensor([[2.8284, 2.6458, 2.0000],\n",
       "        [2.8284, 3.0000, 0.0000]])"
      ]
     },
     "execution_count": 77,
     "metadata": {},
     "output_type": "execute_result"
    }
   ],
   "source": [
    "# square root\n",
    "torch.sqrt(k)"
   ]
  },
  {
   "cell_type": "code",
   "execution_count": 78,
   "id": "13d8d1db",
   "metadata": {},
   "outputs": [
    {
     "data": {
      "text/plain": [
       "tensor([[8., 7., 4.],\n",
       "        [8., 9., 0.]])"
      ]
     },
     "execution_count": 78,
     "metadata": {},
     "output_type": "execute_result"
    }
   ],
   "source": [
    "# absolute value\n",
    "torch.abs(k)"
   ]
  },
  {
   "cell_type": "code",
   "execution_count": 79,
   "id": "a9a1d1f1",
   "metadata": {},
   "outputs": [
    {
     "data": {
      "text/plain": [
       "tensor([[0.9997, 0.9991, 0.9820],\n",
       "        [0.9997, 0.9999, 0.5000]])"
      ]
     },
     "execution_count": 79,
     "metadata": {},
     "output_type": "execute_result"
    }
   ],
   "source": [
    "# sigmoid \n",
    "torch.sigmoid(k)"
   ]
  },
  {
   "cell_type": "code",
   "execution_count": 80,
   "id": "e21ab8b0",
   "metadata": {},
   "outputs": [
    {
     "data": {
      "text/plain": [
       "tensor([[0.5000, 0.1192, 0.9820],\n",
       "        [0.5000, 0.8808, 0.0180]])"
      ]
     },
     "execution_count": 80,
     "metadata": {},
     "output_type": "execute_result"
    }
   ],
   "source": [
    "# softmax\n",
    "torch.softmax(k, dim=0)"
   ]
  },
  {
   "cell_type": "code",
   "execution_count": 81,
   "id": "f31f6e9d",
   "metadata": {},
   "outputs": [
    {
     "data": {
      "text/plain": [
       "tensor([[8., 7., 4.],\n",
       "        [8., 9., 0.]])"
      ]
     },
     "execution_count": 81,
     "metadata": {},
     "output_type": "execute_result"
    }
   ],
   "source": [
    "# relu\n",
    "torch.relu(k)"
   ]
  },
  {
   "cell_type": "markdown",
   "id": "97165942",
   "metadata": {},
   "source": [
    "## Inplace operations"
   ]
  },
  {
   "cell_type": "code",
   "execution_count": 82,
   "id": "0b13ff64",
   "metadata": {},
   "outputs": [
    {
     "name": "stdout",
     "output_type": "stream",
     "text": [
      "\n",
      "M: \n",
      "tensor([[0.2994, 0.7281, 0.7782],\n",
      "        [0.8131, 0.5290, 0.2375],\n",
      "        [0.5961, 0.2977, 0.8015]])\n",
      "\n",
      "N: \n",
      "tensor([[0.1398, 0.0273, 0.6364],\n",
      "        [0.3886, 0.7269, 0.1695],\n",
      "        [0.1164, 0.6254, 0.7985]])\n"
     ]
    }
   ],
   "source": [
    "m = torch.rand(3, 3)\n",
    "n = torch.rand(3, 3)\n",
    "\n",
    "print(f\"\\nM: \\n{m}\")\n",
    "print(f\"\\nN: \\n{n}\")"
   ]
  },
  {
   "cell_type": "code",
   "execution_count": 89,
   "id": "885a30ed",
   "metadata": {},
   "outputs": [
    {
     "data": {
      "text/plain": [
       "tensor([[0.8588, 0.8372, 3.3240],\n",
       "        [2.3674, 3.4368, 0.9157],\n",
       "        [1.0617, 2.7995, 3.9955]])"
      ]
     },
     "execution_count": 89,
     "metadata": {},
     "output_type": "execute_result"
    }
   ],
   "source": [
    "'''\n",
    "Note:-\n",
    "\n",
    "When we perform this operation there is completly new tensor is created in the memory.\n",
    "This is very in efficient for extremely large datasets.\n",
    "\n",
    "So in pytorch we have in-place operations.\n",
    "we can do this m.add_(n), with this m + n result is stored in m only no more memory consumed.\n",
    "'''\n",
    "m + n"
   ]
  },
  {
   "cell_type": "code",
   "execution_count": 90,
   "id": "ad2b85b9",
   "metadata": {},
   "outputs": [
    {
     "data": {
      "text/plain": [
       "tensor([[0.8588, 0.8372, 3.3240],\n",
       "        [2.3674, 3.4368, 0.9157],\n",
       "        [1.0617, 2.7995, 3.9955]])"
      ]
     },
     "execution_count": 90,
     "metadata": {},
     "output_type": "execute_result"
    }
   ],
   "source": [
    "m.add_(n)\n",
    "m"
   ]
  },
  {
   "cell_type": "code",
   "execution_count": 88,
   "id": "810c67d4",
   "metadata": {},
   "outputs": [
    {
     "data": {
      "text/plain": [
       "tensor([[0.1398, 0.0273, 0.6364],\n",
       "        [0.3886, 0.7269, 0.1695],\n",
       "        [0.1164, 0.6254, 0.7985]])"
      ]
     },
     "execution_count": 88,
     "metadata": {},
     "output_type": "execute_result"
    }
   ],
   "source": [
    "n # will be same"
   ]
  },
  {
   "cell_type": "code",
   "execution_count": 93,
   "id": "0683722e",
   "metadata": {},
   "outputs": [
    {
     "data": {
      "text/plain": [
       "tensor([[0.8588, 0.8372, 3.3240],\n",
       "        [2.3674, 3.4368, 0.9157],\n",
       "        [1.0617, 2.7995, 3.9955]])"
      ]
     },
     "execution_count": 93,
     "metadata": {},
     "output_type": "execute_result"
    }
   ],
   "source": [
    "torch.relu(m)"
   ]
  },
  {
   "cell_type": "code",
   "execution_count": 94,
   "id": "4eb0e6c0",
   "metadata": {},
   "outputs": [
    {
     "data": {
      "text/plain": [
       "tensor([[0.8588, 0.8372, 3.3240],\n",
       "        [2.3674, 3.4368, 0.9157],\n",
       "        [1.0617, 2.7995, 3.9955]])"
      ]
     },
     "execution_count": 94,
     "metadata": {},
     "output_type": "execute_result"
    }
   ],
   "source": [
    "m"
   ]
  },
  {
   "cell_type": "code",
   "execution_count": 95,
   "id": "edd4e615",
   "metadata": {},
   "outputs": [
    {
     "data": {
      "text/plain": [
       "tensor([[0.8588, 0.8372, 3.3240],\n",
       "        [2.3674, 3.4368, 0.9157],\n",
       "        [1.0617, 2.7995, 3.9955]])"
      ]
     },
     "execution_count": 95,
     "metadata": {},
     "output_type": "execute_result"
    }
   ],
   "source": [
    "# instead to use permanent in-place operations we can use\n",
    "m.relu_()\n",
    "m"
   ]
  },
  {
   "cell_type": "markdown",
   "id": "de7b88bb",
   "metadata": {},
   "source": [
    "## Copying a tensor"
   ]
  },
  {
   "cell_type": "code",
   "execution_count": 3,
   "id": "1cb6cc17",
   "metadata": {},
   "outputs": [
    {
     "data": {
      "text/plain": [
       "tensor([[0.3032, 0.5001],\n",
       "        [0.4288, 0.1224]])"
      ]
     },
     "execution_count": 3,
     "metadata": {},
     "output_type": "execute_result"
    }
   ],
   "source": [
    "a = torch.rand(2, 2)\n",
    "a"
   ]
  },
  {
   "cell_type": "code",
   "execution_count": 4,
   "id": "ae92c214",
   "metadata": {},
   "outputs": [
    {
     "data": {
      "text/plain": [
       "tensor([[0.3032, 0.5001],\n",
       "        [0.4288, 0.1224]])"
      ]
     },
     "execution_count": 4,
     "metadata": {},
     "output_type": "execute_result"
    }
   ],
   "source": [
    "b = a\n",
    "b"
   ]
  },
  {
   "cell_type": "code",
   "execution_count": 5,
   "id": "b0a19d06",
   "metadata": {},
   "outputs": [
    {
     "data": {
      "text/plain": [
       "(tensor([[100.0000,   0.5001],\n",
       "         [  0.4288,   0.1224]]),\n",
       " tensor([[100.0000,   0.5001],\n",
       "         [  0.4288,   0.1224]]))"
      ]
     },
     "execution_count": 5,
     "metadata": {},
     "output_type": "execute_result"
    }
   ],
   "source": [
    "a[0, 0] = 100\n",
    "a, b"
   ]
  },
  {
   "cell_type": "code",
   "execution_count": 6,
   "id": "7977b64d",
   "metadata": {},
   "outputs": [
    {
     "data": {
      "text/plain": [
       "(tensor([[0.0000, 0.5001],\n",
       "         [0.4288, 0.1224]]),\n",
       " tensor([[100.0000,   0.5001],\n",
       "         [  0.4288,   0.1224]]))"
      ]
     },
     "execution_count": 6,
     "metadata": {},
     "output_type": "execute_result"
    }
   ],
   "source": [
    "# instead of copying tensor it is storing the reference of the tensor\n",
    "# so to avoid this we can use\n",
    "c = a.clone()\n",
    "c\n",
    "\n",
    "a[0, 0] = 0\n",
    "a, c"
   ]
  },
  {
   "cell_type": "code",
   "execution_count": 7,
   "id": "63a36e34",
   "metadata": {},
   "outputs": [
    {
     "name": "stdout",
     "output_type": "stream",
     "text": [
      "0x2b7eb180370\n",
      "0x2b7eb180370\n",
      "0x2b7eab90a00\n"
     ]
    }
   ],
   "source": [
    "# we can also find memory address of the tensor\n",
    "print(hex(id(a)))\n",
    "print(hex(id(b)))\n",
    "print(hex(id(c)))"
   ]
  },
  {
   "cell_type": "code",
   "execution_count": 8,
   "id": "fde96331",
   "metadata": {},
   "outputs": [
    {
     "data": {
      "text/plain": [
       "2988946490224"
      ]
     },
     "execution_count": 8,
     "metadata": {},
     "output_type": "execute_result"
    }
   ],
   "source": [
    "id(a)"
   ]
  }
 ],
 "metadata": {
  "kernelspec": {
   "display_name": "pytorch",
   "language": "python",
   "name": "python3"
  },
  "language_info": {
   "codemirror_mode": {
    "name": "ipython",
    "version": 3
   },
   "file_extension": ".py",
   "mimetype": "text/x-python",
   "name": "python",
   "nbconvert_exporter": "python",
   "pygments_lexer": "ipython3",
   "version": "3.12.6"
  }
 },
 "nbformat": 4,
 "nbformat_minor": 5
}
